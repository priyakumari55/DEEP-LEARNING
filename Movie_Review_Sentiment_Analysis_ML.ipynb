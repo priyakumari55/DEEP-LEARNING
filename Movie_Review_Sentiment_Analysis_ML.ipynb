{
  "nbformat": 4,
  "nbformat_minor": 0,
  "metadata": {
    "colab": {
      "name": "Movie_Review_Sentiment_Analysis_ML",
      "provenance": [],
      "authorship_tag": "ABX9TyPdD9BQedLEO/7u/AEcVN+S",
      "include_colab_link": true
    },
    "kernelspec": {
      "name": "python3",
      "display_name": "Python 3"
    }
  },
  "cells": [
    {
      "cell_type": "markdown",
      "metadata": {
        "id": "view-in-github",
        "colab_type": "text"
      },
      "source": [
        "<a href=\"https://colab.research.google.com/github/priyakumari55/DEEP-LEARNING/blob/main/Movie_Review_Sentiment_Analysis_ML.ipynb\" target=\"_parent\"><img src=\"https://colab.research.google.com/assets/colab-badge.svg\" alt=\"Open In Colab\"/></a>"
      ]
    },
    {
      "cell_type": "code",
      "metadata": {
        "id": "pFHfE-JQngya"
      },
      "source": [
        "import pandas as pd  \n",
        "import numpy as np\n",
        "import matplotlib.pyplot as plt\n",
        "import seaborn as sns\n",
        "from bs4 import BeautifulSoup\n",
        "from nltk.tokenize import WordPunctTokenizer\n",
        "from nltk.corpus import stopwords \n",
        "import string\n",
        "from collections import Counter\n",
        "from sklearn.model_selection import train_test_split\n",
        "import re\n",
        "import nltk\n",
        "from nltk.stem.porter import PorterStemmer\n",
        "from sklearn.feature_extraction.text import CountVectorizer\n",
        "from sklearn.linear_model import LogisticRegression\n",
        "from sklearn.svm import SVC\n",
        "from sklearn.tree import DecisionTreeClassifier\n",
        "from sklearn.neighbors import KNeighborsClassifier\n",
        "from sklearn.ensemble import RandomForestClassifier\n",
        "from sklearn.metrics import accuracy_score, confusion_matrix"
      ],
      "execution_count": 5,
      "outputs": []
    },
    {
      "cell_type": "code",
      "metadata": {
        "id": "JtcqEQSWn1Fj"
      },
      "source": [
        "train = pd.read_csv('train[1].tsv', sep=\"\\t\")\n",
        "test = pd.read_csv('test[1].tsv', sep=\"\\t\")"
      ],
      "execution_count": 6,
      "outputs": []
    },
    {
      "cell_type": "code",
      "metadata": {
        "id": "u8jNjRgznaHQ"
      },
      "source": [
        "tok = WordPunctTokenizer()\n",
        "\n",
        "pat1 = r'@[A-Za-z0-9_]+'\n",
        "pat2 = r'https?://[^ ]+'\n",
        "combined_pat = r'|'.join((pat1, pat2))\n",
        "www_pat = r'www.[^ ]+'\n",
        "negations_dic = {\"isn't\":\"is not\", \"aren't\":\"are not\", \"wasn't\":\"was not\", \"weren't\":\"were not\",\n",
        "                \"haven't\":\"have not\",\"hasn't\":\"has not\",\"hadn't\":\"had not\",\"won't\":\"will not\",\n",
        "                \"wouldn't\":\"would not\", \"don't\":\"do not\", \"doesn't\":\"does not\",\"didn't\":\"did not\",\n",
        "                \"can't\":\"can not\",\"couldn't\":\"could not\",\"shouldn't\":\"should not\",\"mightn't\":\"might not\",\n",
        "                \"mustn't\":\"must not\"}\n",
        "neg_pattern = re.compile(r'\\b(' + '|'.join(negations_dic.keys()) + r')\\b')\n",
        "\n",
        "def tweet_cleaner_updated(text):\n",
        "    soup = BeautifulSoup(text, 'lxml')\n",
        "    souped = soup.get_text()\n",
        "    try:\n",
        "        bom_removed = souped.decode(\"utf-8-sig\").replace(u\"\\ufffd\", \"?\")\n",
        "    except:\n",
        "        bom_removed = souped\n",
        "    stripped = re.sub(combined_pat, '', bom_removed)\n",
        "    stripped = re.sub(www_pat, '', stripped)\n",
        "    lower_case = stripped.lower()\n",
        "    neg_handled = neg_pattern.sub(lambda x: negations_dic[x.group()], lower_case)\n",
        "    letters_only = re.sub(\"[^a-zA-Z]\", \" \", neg_handled)\n",
        "    # During the letters_only process two lines above, it has created unnecessay white spaces,\n",
        "    # I will tokenize and join together to remove unneccessary white spaces\n",
        "    words = [x for x  in tok.tokenize(letters_only) if len(x) > 1]\n",
        "    return (\" \".join(words)).strip()"
      ],
      "execution_count": 7,
      "outputs": []
    },
    {
      "cell_type": "code",
      "metadata": {
        "id": "FZg3FeRtoyzk",
        "outputId": "08ea6497-30b0-4c61-9042-afd8ed3997ae",
        "colab": {
          "base_uri": "https://localhost:8080/",
          "height": 107
        }
      },
      "source": [
        "print (\"Cleaning the tweets...\\n\")\n",
        "clean_data = []\n",
        "for row in train.Phrase:\n",
        "    clean_data.append(tweet_cleaner_updated(row))"
      ],
      "execution_count": 8,
      "outputs": [
        {
          "output_type": "stream",
          "text": [
            "Cleaning the tweets...\n",
            "\n"
          ],
          "name": "stdout"
        },
        {
          "output_type": "stream",
          "text": [
            "/usr/local/lib/python3.6/dist-packages/bs4/__init__.py:273: UserWarning: \"b'.'\" looks like a filename, not markup. You should probably open this file and pass the filehandle into Beautiful Soup.\n",
            "  ' Beautiful Soup.' % markup)\n"
          ],
          "name": "stderr"
        }
      ]
    },
    {
      "cell_type": "code",
      "metadata": {
        "id": "OXoys2qgpJAk"
      },
      "source": [
        "clean_df = pd.DataFrame(clean_data,columns=['Phrase'])\n",
        "clean_df['PhraseId'] = train.PhraseId\n",
        "clean_df['SentenceId'] = train.SentenceId\n",
        "clean_df['Sentiment'] = train.Sentiment\n",
        "clean_df.to_csv('cleaned_train_data.csv',encoding='utf-8')"
      ],
      "execution_count": 9,
      "outputs": []
    },
    {
      "cell_type": "code",
      "metadata": {
        "id": "fSrQL4t9pPq3",
        "outputId": "954125ef-5c05-4492-b03d-9cf16db68098",
        "colab": {
          "base_uri": "https://localhost:8080/",
          "height": 415
        }
      },
      "source": [
        "csv = 'cleaned_train_data.csv'\n",
        "cleaned_train_data = pd.read_csv(csv,index_col=0)\n",
        "cleaned_train_data"
      ],
      "execution_count": 10,
      "outputs": [
        {
          "output_type": "execute_result",
          "data": {
            "text/html": [
              "<div>\n",
              "<style scoped>\n",
              "    .dataframe tbody tr th:only-of-type {\n",
              "        vertical-align: middle;\n",
              "    }\n",
              "\n",
              "    .dataframe tbody tr th {\n",
              "        vertical-align: top;\n",
              "    }\n",
              "\n",
              "    .dataframe thead th {\n",
              "        text-align: right;\n",
              "    }\n",
              "</style>\n",
              "<table border=\"1\" class=\"dataframe\">\n",
              "  <thead>\n",
              "    <tr style=\"text-align: right;\">\n",
              "      <th></th>\n",
              "      <th>Phrase</th>\n",
              "      <th>PhraseId</th>\n",
              "      <th>SentenceId</th>\n",
              "      <th>Sentiment</th>\n",
              "    </tr>\n",
              "  </thead>\n",
              "  <tbody>\n",
              "    <tr>\n",
              "      <th>0</th>\n",
              "      <td>series of escapades demonstrating the adage th...</td>\n",
              "      <td>1</td>\n",
              "      <td>1</td>\n",
              "      <td>1.0</td>\n",
              "    </tr>\n",
              "    <tr>\n",
              "      <th>1</th>\n",
              "      <td>series of escapades demonstrating the adage th...</td>\n",
              "      <td>2</td>\n",
              "      <td>1</td>\n",
              "      <td>2.0</td>\n",
              "    </tr>\n",
              "    <tr>\n",
              "      <th>2</th>\n",
              "      <td>series</td>\n",
              "      <td>3</td>\n",
              "      <td>1</td>\n",
              "      <td>2.0</td>\n",
              "    </tr>\n",
              "    <tr>\n",
              "      <th>3</th>\n",
              "      <td>NaN</td>\n",
              "      <td>4</td>\n",
              "      <td>1</td>\n",
              "      <td>2.0</td>\n",
              "    </tr>\n",
              "    <tr>\n",
              "      <th>4</th>\n",
              "      <td>series</td>\n",
              "      <td>5</td>\n",
              "      <td>1</td>\n",
              "      <td>2.0</td>\n",
              "    </tr>\n",
              "    <tr>\n",
              "      <th>...</th>\n",
              "      <td>...</td>\n",
              "      <td>...</td>\n",
              "      <td>...</td>\n",
              "      <td>...</td>\n",
              "    </tr>\n",
              "    <tr>\n",
              "      <th>22138</th>\n",
              "      <td>dim witted pairing</td>\n",
              "      <td>22139</td>\n",
              "      <td>993</td>\n",
              "      <td>1.0</td>\n",
              "    </tr>\n",
              "    <tr>\n",
              "      <th>22139</th>\n",
              "      <td>dim witted pairing</td>\n",
              "      <td>22140</td>\n",
              "      <td>993</td>\n",
              "      <td>1.0</td>\n",
              "    </tr>\n",
              "    <tr>\n",
              "      <th>22140</th>\n",
              "      <td>dim witted</td>\n",
              "      <td>22141</td>\n",
              "      <td>993</td>\n",
              "      <td>1.0</td>\n",
              "    </tr>\n",
              "    <tr>\n",
              "      <th>22141</th>\n",
              "      <td>of teen speak and animal gibberish</td>\n",
              "      <td>22142</td>\n",
              "      <td>993</td>\n",
              "      <td>1.0</td>\n",
              "    </tr>\n",
              "    <tr>\n",
              "      <th>22142</th>\n",
              "      <td>teen</td>\n",
              "      <td>22143</td>\n",
              "      <td>993</td>\n",
              "      <td>NaN</td>\n",
              "    </tr>\n",
              "  </tbody>\n",
              "</table>\n",
              "<p>22143 rows × 4 columns</p>\n",
              "</div>"
            ],
            "text/plain": [
              "                                                  Phrase  ...  Sentiment\n",
              "0      series of escapades demonstrating the adage th...  ...        1.0\n",
              "1      series of escapades demonstrating the adage th...  ...        2.0\n",
              "2                                                 series  ...        2.0\n",
              "3                                                    NaN  ...        2.0\n",
              "4                                                 series  ...        2.0\n",
              "...                                                  ...  ...        ...\n",
              "22138                                 dim witted pairing  ...        1.0\n",
              "22139                                 dim witted pairing  ...        1.0\n",
              "22140                                         dim witted  ...        1.0\n",
              "22141                 of teen speak and animal gibberish  ...        1.0\n",
              "22142                                               teen  ...        NaN\n",
              "\n",
              "[22143 rows x 4 columns]"
            ]
          },
          "metadata": {
            "tags": []
          },
          "execution_count": 10
        }
      ]
    },
    {
      "cell_type": "code",
      "metadata": {
        "id": "vhwae1OHpUHf",
        "outputId": "be2b00a0-bec7-473d-d16b-eaac2326f663",
        "colab": {
          "base_uri": "https://localhost:8080/",
          "height": 415
        }
      },
      "source": [
        "cleaned_train_data[cleaned_train_data.isnull().any(axis=1)]"
      ],
      "execution_count": 11,
      "outputs": [
        {
          "output_type": "execute_result",
          "data": {
            "text/html": [
              "<div>\n",
              "<style scoped>\n",
              "    .dataframe tbody tr th:only-of-type {\n",
              "        vertical-align: middle;\n",
              "    }\n",
              "\n",
              "    .dataframe tbody tr th {\n",
              "        vertical-align: top;\n",
              "    }\n",
              "\n",
              "    .dataframe thead th {\n",
              "        text-align: right;\n",
              "    }\n",
              "</style>\n",
              "<table border=\"1\" class=\"dataframe\">\n",
              "  <thead>\n",
              "    <tr style=\"text-align: right;\">\n",
              "      <th></th>\n",
              "      <th>Phrase</th>\n",
              "      <th>PhraseId</th>\n",
              "      <th>SentenceId</th>\n",
              "      <th>Sentiment</th>\n",
              "    </tr>\n",
              "  </thead>\n",
              "  <tbody>\n",
              "    <tr>\n",
              "      <th>3</th>\n",
              "      <td>NaN</td>\n",
              "      <td>4</td>\n",
              "      <td>1</td>\n",
              "      <td>2.0</td>\n",
              "    </tr>\n",
              "    <tr>\n",
              "      <th>37</th>\n",
              "      <td>NaN</td>\n",
              "      <td>38</td>\n",
              "      <td>1</td>\n",
              "      <td>2.0</td>\n",
              "    </tr>\n",
              "    <tr>\n",
              "      <th>62</th>\n",
              "      <td>NaN</td>\n",
              "      <td>63</td>\n",
              "      <td>1</td>\n",
              "      <td>2.0</td>\n",
              "    </tr>\n",
              "    <tr>\n",
              "      <th>92</th>\n",
              "      <td>NaN</td>\n",
              "      <td>93</td>\n",
              "      <td>3</td>\n",
              "      <td>2.0</td>\n",
              "    </tr>\n",
              "    <tr>\n",
              "      <th>98</th>\n",
              "      <td>NaN</td>\n",
              "      <td>99</td>\n",
              "      <td>3</td>\n",
              "      <td>2.0</td>\n",
              "    </tr>\n",
              "    <tr>\n",
              "      <th>...</th>\n",
              "      <td>...</td>\n",
              "      <td>...</td>\n",
              "      <td>...</td>\n",
              "      <td>...</td>\n",
              "    </tr>\n",
              "    <tr>\n",
              "      <th>18930</th>\n",
              "      <td>NaN</td>\n",
              "      <td>18931</td>\n",
              "      <td>831</td>\n",
              "      <td>2.0</td>\n",
              "    </tr>\n",
              "    <tr>\n",
              "      <th>19205</th>\n",
              "      <td>NaN</td>\n",
              "      <td>19206</td>\n",
              "      <td>842</td>\n",
              "      <td>2.0</td>\n",
              "    </tr>\n",
              "    <tr>\n",
              "      <th>21025</th>\n",
              "      <td>NaN</td>\n",
              "      <td>21026</td>\n",
              "      <td>940</td>\n",
              "      <td>3.0</td>\n",
              "    </tr>\n",
              "    <tr>\n",
              "      <th>22062</th>\n",
              "      <td>NaN</td>\n",
              "      <td>22063</td>\n",
              "      <td>989</td>\n",
              "      <td>2.0</td>\n",
              "    </tr>\n",
              "    <tr>\n",
              "      <th>22142</th>\n",
              "      <td>teen</td>\n",
              "      <td>22143</td>\n",
              "      <td>993</td>\n",
              "      <td>NaN</td>\n",
              "    </tr>\n",
              "  </tbody>\n",
              "</table>\n",
              "<p>76 rows × 4 columns</p>\n",
              "</div>"
            ],
            "text/plain": [
              "      Phrase  PhraseId  SentenceId  Sentiment\n",
              "3        NaN         4           1        2.0\n",
              "37       NaN        38           1        2.0\n",
              "62       NaN        63           1        2.0\n",
              "92       NaN        93           3        2.0\n",
              "98       NaN        99           3        2.0\n",
              "...      ...       ...         ...        ...\n",
              "18930    NaN     18931         831        2.0\n",
              "19205    NaN     19206         842        2.0\n",
              "21025    NaN     21026         940        3.0\n",
              "22062    NaN     22063         989        2.0\n",
              "22142   teen     22143         993        NaN\n",
              "\n",
              "[76 rows x 4 columns]"
            ]
          },
          "metadata": {
            "tags": []
          },
          "execution_count": 11
        }
      ]
    },
    {
      "cell_type": "code",
      "metadata": {
        "id": "4_ApQtlxpYmk",
        "outputId": "cc698438-b56b-4a54-ce2e-a39d1f7485a9",
        "colab": {
          "base_uri": "https://localhost:8080/",
          "height": 104
        }
      },
      "source": [
        "cleaned_train_data.isnull().any(axis=0)"
      ],
      "execution_count": 12,
      "outputs": [
        {
          "output_type": "execute_result",
          "data": {
            "text/plain": [
              "Phrase         True\n",
              "PhraseId      False\n",
              "SentenceId    False\n",
              "Sentiment      True\n",
              "dtype: bool"
            ]
          },
          "metadata": {
            "tags": []
          },
          "execution_count": 12
        }
      ]
    },
    {
      "cell_type": "code",
      "metadata": {
        "id": "eKR2aeN0pc_e",
        "outputId": "33a54937-676c-4fdc-fbd4-7bcf3e49d348",
        "colab": {
          "base_uri": "https://localhost:8080/",
          "height": 208
        }
      },
      "source": [
        "cleaned_train_data.dropna(inplace=True)\n",
        "cleaned_train_data.reset_index(drop=True,inplace=True)\n",
        "cleaned_train_data.info()"
      ],
      "execution_count": 13,
      "outputs": [
        {
          "output_type": "stream",
          "text": [
            "<class 'pandas.core.frame.DataFrame'>\n",
            "RangeIndex: 22067 entries, 0 to 22066\n",
            "Data columns (total 4 columns):\n",
            " #   Column      Non-Null Count  Dtype  \n",
            "---  ------      --------------  -----  \n",
            " 0   Phrase      22067 non-null  object \n",
            " 1   PhraseId    22067 non-null  int64  \n",
            " 2   SentenceId  22067 non-null  int64  \n",
            " 3   Sentiment   22067 non-null  float64\n",
            "dtypes: float64(1), int64(2), object(1)\n",
            "memory usage: 689.7+ KB\n"
          ],
          "name": "stdout"
        }
      ]
    },
    {
      "cell_type": "code",
      "metadata": {
        "id": "ebC4dC5dpgao",
        "outputId": "3a2537ac-ec32-431a-868a-153b2d7a27ed",
        "colab": {
          "base_uri": "https://localhost:8080/",
          "height": 35
        }
      },
      "source": [
        "cleaned_train_data.shape"
      ],
      "execution_count": 14,
      "outputs": [
        {
          "output_type": "execute_result",
          "data": {
            "text/plain": [
              "(22067, 4)"
            ]
          },
          "metadata": {
            "tags": []
          },
          "execution_count": 14
        }
      ]
    },
    {
      "cell_type": "code",
      "metadata": {
        "id": "x_NbIVwpplk_",
        "outputId": "190d0459-edf9-4594-bd98-72707efe1615",
        "colab": {
          "base_uri": "https://localhost:8080/",
          "height": 141
        }
      },
      "source": [
        "%%time\n",
        "print (\"Cleaning the tweets...\\n\")\n",
        "clean_data = []\n",
        "for row in test.Phrase:\n",
        "    clean_data.append(tweet_cleaner_updated(row))"
      ],
      "execution_count": 15,
      "outputs": [
        {
          "output_type": "stream",
          "text": [
            "Cleaning the tweets...\n",
            "\n"
          ],
          "name": "stdout"
        },
        {
          "output_type": "stream",
          "text": [
            "/usr/local/lib/python3.6/dist-packages/bs4/__init__.py:273: UserWarning: \"b'.'\" looks like a filename, not markup. You should probably open this file and pass the filehandle into Beautiful Soup.\n",
            "  ' Beautiful Soup.' % markup)\n"
          ],
          "name": "stderr"
        },
        {
          "output_type": "stream",
          "text": [
            "CPU times: user 8.21 s, sys: 492 ms, total: 8.71 s\n",
            "Wall time: 8.81 s\n"
          ],
          "name": "stdout"
        }
      ]
    },
    {
      "cell_type": "code",
      "metadata": {
        "id": "K7BvBeSRpqZe"
      },
      "source": [
        "clean_df = pd.DataFrame(clean_data, columns=['Phrase'])\n",
        "clean_df['PhraseId'] = test.PhraseId\n",
        "clean_df['SentenceId'] = test.SentenceId\n",
        "\n",
        "clean_df.to_csv('cleaned_test_data.csv',encoding='utf-8')"
      ],
      "execution_count": 16,
      "outputs": []
    },
    {
      "cell_type": "code",
      "metadata": {
        "id": "YMwHH49epuy1",
        "outputId": "12a655e5-6e37-428b-c016-a616a77827f0",
        "colab": {
          "base_uri": "https://localhost:8080/",
          "height": 415
        }
      },
      "source": [
        "csv = 'cleaned_test_data.csv'\n",
        "cleaned_test_data = pd.read_csv(csv,index_col=0)\n",
        "cleaned_test_data"
      ],
      "execution_count": 17,
      "outputs": [
        {
          "output_type": "execute_result",
          "data": {
            "text/html": [
              "<div>\n",
              "<style scoped>\n",
              "    .dataframe tbody tr th:only-of-type {\n",
              "        vertical-align: middle;\n",
              "    }\n",
              "\n",
              "    .dataframe tbody tr th {\n",
              "        vertical-align: top;\n",
              "    }\n",
              "\n",
              "    .dataframe thead th {\n",
              "        text-align: right;\n",
              "    }\n",
              "</style>\n",
              "<table border=\"1\" class=\"dataframe\">\n",
              "  <thead>\n",
              "    <tr style=\"text-align: right;\">\n",
              "      <th></th>\n",
              "      <th>Phrase</th>\n",
              "      <th>PhraseId</th>\n",
              "      <th>SentenceId</th>\n",
              "    </tr>\n",
              "  </thead>\n",
              "  <tbody>\n",
              "    <tr>\n",
              "      <th>0</th>\n",
              "      <td>an intermittently pleasing but mostly routine ...</td>\n",
              "      <td>156061</td>\n",
              "      <td>8545</td>\n",
              "    </tr>\n",
              "    <tr>\n",
              "      <th>1</th>\n",
              "      <td>an intermittently pleasing but mostly routine ...</td>\n",
              "      <td>156062</td>\n",
              "      <td>8545</td>\n",
              "    </tr>\n",
              "    <tr>\n",
              "      <th>2</th>\n",
              "      <td>an</td>\n",
              "      <td>156063</td>\n",
              "      <td>8545</td>\n",
              "    </tr>\n",
              "    <tr>\n",
              "      <th>3</th>\n",
              "      <td>intermittently pleasing but mostly routine effort</td>\n",
              "      <td>156064</td>\n",
              "      <td>8545</td>\n",
              "    </tr>\n",
              "    <tr>\n",
              "      <th>4</th>\n",
              "      <td>intermittently pleasing but mostly routine</td>\n",
              "      <td>156065</td>\n",
              "      <td>8545</td>\n",
              "    </tr>\n",
              "    <tr>\n",
              "      <th>...</th>\n",
              "      <td>...</td>\n",
              "      <td>...</td>\n",
              "      <td>...</td>\n",
              "    </tr>\n",
              "    <tr>\n",
              "      <th>42384</th>\n",
              "      <td>improve the over the top mix</td>\n",
              "      <td>198445</td>\n",
              "      <td>10550</td>\n",
              "    </tr>\n",
              "    <tr>\n",
              "      <th>42385</th>\n",
              "      <td>improve</td>\n",
              "      <td>198446</td>\n",
              "      <td>10550</td>\n",
              "    </tr>\n",
              "    <tr>\n",
              "      <th>42386</th>\n",
              "      <td>the over the top mix</td>\n",
              "      <td>198447</td>\n",
              "      <td>10550</td>\n",
              "    </tr>\n",
              "    <tr>\n",
              "      <th>42387</th>\n",
              "      <td>over the top mix</td>\n",
              "      <td>198448</td>\n",
              "      <td>10550</td>\n",
              "    </tr>\n",
              "    <tr>\n",
              "      <th>42388</th>\n",
              "      <td>NaN</td>\n",
              "      <td>198449</td>\n",
              "      <td>10551</td>\n",
              "    </tr>\n",
              "  </tbody>\n",
              "</table>\n",
              "<p>42389 rows × 3 columns</p>\n",
              "</div>"
            ],
            "text/plain": [
              "                                                  Phrase  PhraseId  SentenceId\n",
              "0      an intermittently pleasing but mostly routine ...    156061        8545\n",
              "1      an intermittently pleasing but mostly routine ...    156062        8545\n",
              "2                                                     an    156063        8545\n",
              "3      intermittently pleasing but mostly routine effort    156064        8545\n",
              "4             intermittently pleasing but mostly routine    156065        8545\n",
              "...                                                  ...       ...         ...\n",
              "42384                       improve the over the top mix    198445       10550\n",
              "42385                                            improve    198446       10550\n",
              "42386                               the over the top mix    198447       10550\n",
              "42387                                   over the top mix    198448       10550\n",
              "42388                                                NaN    198449       10551\n",
              "\n",
              "[42389 rows x 3 columns]"
            ]
          },
          "metadata": {
            "tags": []
          },
          "execution_count": 17
        }
      ]
    },
    {
      "cell_type": "code",
      "metadata": {
        "id": "EO8TjzIqpyIv",
        "outputId": "6d66273a-4c9c-42eb-e4af-1e8c412c2622",
        "colab": {
          "base_uri": "https://localhost:8080/",
          "height": 415
        }
      },
      "source": [
        "cleaned_test_data[cleaned_test_data.isnull().any(axis=1)]"
      ],
      "execution_count": 18,
      "outputs": [
        {
          "output_type": "execute_result",
          "data": {
            "text/html": [
              "<div>\n",
              "<style scoped>\n",
              "    .dataframe tbody tr th:only-of-type {\n",
              "        vertical-align: middle;\n",
              "    }\n",
              "\n",
              "    .dataframe tbody tr th {\n",
              "        vertical-align: top;\n",
              "    }\n",
              "\n",
              "    .dataframe thead th {\n",
              "        text-align: right;\n",
              "    }\n",
              "</style>\n",
              "<table border=\"1\" class=\"dataframe\">\n",
              "  <thead>\n",
              "    <tr style=\"text-align: right;\">\n",
              "      <th></th>\n",
              "      <th>Phrase</th>\n",
              "      <th>PhraseId</th>\n",
              "      <th>SentenceId</th>\n",
              "    </tr>\n",
              "  </thead>\n",
              "  <tbody>\n",
              "    <tr>\n",
              "      <th>14</th>\n",
              "      <td>NaN</td>\n",
              "      <td>156075</td>\n",
              "      <td>8545</td>\n",
              "    </tr>\n",
              "    <tr>\n",
              "      <th>34</th>\n",
              "      <td>NaN</td>\n",
              "      <td>156095</td>\n",
              "      <td>8546</td>\n",
              "    </tr>\n",
              "    <tr>\n",
              "      <th>46</th>\n",
              "      <td>NaN</td>\n",
              "      <td>156107</td>\n",
              "      <td>8546</td>\n",
              "    </tr>\n",
              "    <tr>\n",
              "      <th>48</th>\n",
              "      <td>NaN</td>\n",
              "      <td>156109</td>\n",
              "      <td>8546</td>\n",
              "    </tr>\n",
              "    <tr>\n",
              "      <th>106</th>\n",
              "      <td>NaN</td>\n",
              "      <td>156167</td>\n",
              "      <td>8547</td>\n",
              "    </tr>\n",
              "    <tr>\n",
              "      <th>...</th>\n",
              "      <td>...</td>\n",
              "      <td>...</td>\n",
              "      <td>...</td>\n",
              "    </tr>\n",
              "    <tr>\n",
              "      <th>41103</th>\n",
              "      <td>NaN</td>\n",
              "      <td>197164</td>\n",
              "      <td>10488</td>\n",
              "    </tr>\n",
              "    <tr>\n",
              "      <th>41290</th>\n",
              "      <td>NaN</td>\n",
              "      <td>197351</td>\n",
              "      <td>10497</td>\n",
              "    </tr>\n",
              "    <tr>\n",
              "      <th>41305</th>\n",
              "      <td>NaN</td>\n",
              "      <td>197366</td>\n",
              "      <td>10497</td>\n",
              "    </tr>\n",
              "    <tr>\n",
              "      <th>42012</th>\n",
              "      <td>NaN</td>\n",
              "      <td>198073</td>\n",
              "      <td>10529</td>\n",
              "    </tr>\n",
              "    <tr>\n",
              "      <th>42388</th>\n",
              "      <td>NaN</td>\n",
              "      <td>198449</td>\n",
              "      <td>10551</td>\n",
              "    </tr>\n",
              "  </tbody>\n",
              "</table>\n",
              "<p>128 rows × 3 columns</p>\n",
              "</div>"
            ],
            "text/plain": [
              "      Phrase  PhraseId  SentenceId\n",
              "14       NaN    156075        8545\n",
              "34       NaN    156095        8546\n",
              "46       NaN    156107        8546\n",
              "48       NaN    156109        8546\n",
              "106      NaN    156167        8547\n",
              "...      ...       ...         ...\n",
              "41103    NaN    197164       10488\n",
              "41290    NaN    197351       10497\n",
              "41305    NaN    197366       10497\n",
              "42012    NaN    198073       10529\n",
              "42388    NaN    198449       10551\n",
              "\n",
              "[128 rows x 3 columns]"
            ]
          },
          "metadata": {
            "tags": []
          },
          "execution_count": 18
        }
      ]
    },
    {
      "cell_type": "code",
      "metadata": {
        "id": "NV5lpDNtp3Aa",
        "outputId": "672048ef-6f3a-4095-ddbd-1b7c8f31eeb7",
        "colab": {
          "base_uri": "https://localhost:8080/",
          "height": 191
        }
      },
      "source": [
        "cleaned_test_data.dropna(inplace=True)\n",
        "cleaned_test_data.reset_index(drop=True,inplace=True)\n",
        "cleaned_test_data.info()\n"
      ],
      "execution_count": 19,
      "outputs": [
        {
          "output_type": "stream",
          "text": [
            "<class 'pandas.core.frame.DataFrame'>\n",
            "RangeIndex: 42261 entries, 0 to 42260\n",
            "Data columns (total 3 columns):\n",
            " #   Column      Non-Null Count  Dtype \n",
            "---  ------      --------------  ----- \n",
            " 0   Phrase      42261 non-null  object\n",
            " 1   PhraseId    42261 non-null  int64 \n",
            " 2   SentenceId  42261 non-null  int64 \n",
            "dtypes: int64(2), object(1)\n",
            "memory usage: 990.6+ KB\n"
          ],
          "name": "stdout"
        }
      ]
    },
    {
      "cell_type": "code",
      "metadata": {
        "id": "fQOF-Lbcp7d6",
        "outputId": "f8d4c50f-0ca6-40bb-c7f5-e452185d5d47",
        "colab": {
          "base_uri": "https://localhost:8080/",
          "height": 87
        }
      },
      "source": [
        "X_train, X_test, y_train, y_test = train_test_split(cleaned_train_data['Phrase'], cleaned_train_data['Sentiment'], test_size = 0.2, random_state = 37)\n",
        "print (\"X_train: \", len(X_train))\n",
        "print(\"X_test: \", len(X_test))\n",
        "print(\"y_train: \", len(y_train))\n",
        "print(\"y_test: \", len(y_test))"
      ],
      "execution_count": 20,
      "outputs": [
        {
          "output_type": "stream",
          "text": [
            "X_train:  17653\n",
            "X_test:  4414\n",
            "y_train:  17653\n",
            "y_test:  4414\n"
          ],
          "name": "stdout"
        }
      ]
    },
    {
      "cell_type": "code",
      "metadata": {
        "id": "bDZWhz5RqNl9",
        "outputId": "9a54325b-3a96-4932-89ed-2c43b471ce9a",
        "colab": {
          "base_uri": "https://localhost:8080/",
          "height": 121
        }
      },
      "source": [
        "cv = CountVectorizer(max_features = 1500)\n",
        "cv.fit(X_train)"
      ],
      "execution_count": 21,
      "outputs": [
        {
          "output_type": "execute_result",
          "data": {
            "text/plain": [
              "CountVectorizer(analyzer='word', binary=False, decode_error='strict',\n",
              "                dtype=<class 'numpy.int64'>, encoding='utf-8', input='content',\n",
              "                lowercase=True, max_df=1.0, max_features=1500, min_df=1,\n",
              "                ngram_range=(1, 1), preprocessor=None, stop_words=None,\n",
              "                strip_accents=None, token_pattern='(?u)\\\\b\\\\w\\\\w+\\\\b',\n",
              "                tokenizer=None, vocabulary=None)"
            ]
          },
          "metadata": {
            "tags": []
          },
          "execution_count": 21
        }
      ]
    },
    {
      "cell_type": "code",
      "metadata": {
        "id": "x3DjbF4zqRLt",
        "outputId": "33166f4c-807d-4f0e-f3a8-5fa540b418c1",
        "colab": {
          "base_uri": "https://localhost:8080/",
          "height": 52
        }
      },
      "source": [
        "X_train_cv = cv.transform(X_train)\n",
        "X_train_cv"
      ],
      "execution_count": 22,
      "outputs": [
        {
          "output_type": "execute_result",
          "data": {
            "text/plain": [
              "<17653x1500 sparse matrix of type '<class 'numpy.int64'>'\n",
              "\twith 73546 stored elements in Compressed Sparse Row format>"
            ]
          },
          "metadata": {
            "tags": []
          },
          "execution_count": 22
        }
      ]
    },
    {
      "cell_type": "code",
      "metadata": {
        "id": "_oCsmR74qVV5",
        "outputId": "cf27d813-0a17-4ea3-ddb0-1abd06c0024c",
        "colab": {
          "base_uri": "https://localhost:8080/",
          "height": 52
        }
      },
      "source": [
        "X_test_cv = cv.transform(X_test)\n",
        "X_test_cv"
      ],
      "execution_count": 23,
      "outputs": [
        {
          "output_type": "execute_result",
          "data": {
            "text/plain": [
              "<4414x1500 sparse matrix of type '<class 'numpy.int64'>'\n",
              "\twith 18341 stored elements in Compressed Sparse Row format>"
            ]
          },
          "metadata": {
            "tags": []
          },
          "execution_count": 23
        }
      ]
    },
    {
      "cell_type": "code",
      "metadata": {
        "id": "B_s4mTmdqY7X",
        "outputId": "a3afca5f-b5b5-43ae-e590-781f8918e8df",
        "colab": {
          "base_uri": "https://localhost:8080/",
          "height": 176
        }
      },
      "source": [
        "from sklearn.linear_model import LogisticRegression\n",
        "log_model = LogisticRegression()\n",
        "LRC_model = log_model.fit(X_train_cv,y_train)\n",
        "\n",
        "y_lr = log_model.predict(X_test_cv)"
      ],
      "execution_count": 24,
      "outputs": [
        {
          "output_type": "stream",
          "text": [
            "/usr/local/lib/python3.6/dist-packages/sklearn/linear_model/_logistic.py:940: ConvergenceWarning: lbfgs failed to converge (status=1):\n",
            "STOP: TOTAL NO. of ITERATIONS REACHED LIMIT.\n",
            "\n",
            "Increase the number of iterations (max_iter) or scale the data as shown in:\n",
            "    https://scikit-learn.org/stable/modules/preprocessing.html\n",
            "Please also refer to the documentation for alternative solver options:\n",
            "    https://scikit-learn.org/stable/modules/linear_model.html#logistic-regression\n",
            "  extra_warning_msg=_LOGISTIC_SOLVER_CONVERGENCE_MSG)\n"
          ],
          "name": "stderr"
        }
      ]
    },
    {
      "cell_type": "code",
      "metadata": {
        "id": "ZT9s8k4OqdzE",
        "outputId": "1c4285c7-0ce8-4ee9-986e-f7fe8bed626a",
        "colab": {
          "base_uri": "https://localhost:8080/",
          "height": 139
        }
      },
      "source": [
        "print('LR Accuracy_score: ',accuracy_score(y_test,y_lr))\n",
        "print('LR confusion_matrix: ', confusion_matrix(y_lr, y_test)) \n",
        "LRC_accuracy_train  = round(LRC_model.score(X_test_cv,y_test) * 100, 2)\n",
        "LRC_accuracy_train"
      ],
      "execution_count": 25,
      "outputs": [
        {
          "output_type": "stream",
          "text": [
            "LR Accuracy_score:  0.6246035342093339\n",
            "LR confusion_matrix:  [[  19   30    6    2    1]\n",
            " [  64  192  104   18    1]\n",
            " [  55  442 2154  533   62]\n",
            " [   5   25  135  328  115]\n",
            " [   0    3    5   51   64]]\n"
          ],
          "name": "stdout"
        },
        {
          "output_type": "execute_result",
          "data": {
            "text/plain": [
              "62.46"
            ]
          },
          "metadata": {
            "tags": []
          },
          "execution_count": 25
        }
      ]
    },
    {
      "cell_type": "code",
      "metadata": {
        "id": "lF9_xksgqjSq"
      },
      "source": [
        "rfc = RandomForestClassifier(n_estimators=37, random_state=252)\n",
        "RFC_model = rfc.fit(X_train_cv,y_train)\n",
        "\n",
        "y_rfc = rfc.predict(X_test_cv)"
      ],
      "execution_count": 26,
      "outputs": []
    },
    {
      "cell_type": "code",
      "metadata": {
        "id": "-FeFAjgfqpyF",
        "outputId": "9dff561b-58e9-4353-d8d3-60600bb3a7eb",
        "colab": {
          "base_uri": "https://localhost:8080/",
          "height": 139
        }
      },
      "source": [
        "print('Random Forest Accuracy_score: ',accuracy_score(y_test,y_rfc))\n",
        "print('Random Forest confusion_matrix: ', confusion_matrix(y_rfc, y_test)) \n",
        "RFC_accuracy_train  = round(RFC_model.score(X_test_cv,y_test) * 100, 2)\n",
        "RFC_accuracy_train "
      ],
      "execution_count": 27,
      "outputs": [
        {
          "output_type": "stream",
          "text": [
            "Random Forest Accuracy_score:  0.621658359764386\n",
            "Random Forest confusion_matrix:  [[  39   58   21    2    1]\n",
            " [  53  246  168   28    0]\n",
            " [  48  355 2021  467   42]\n",
            " [   3   28  184  354  116]\n",
            " [   0    5   10   81   84]]\n"
          ],
          "name": "stdout"
        },
        {
          "output_type": "execute_result",
          "data": {
            "text/plain": [
              "62.17"
            ]
          },
          "metadata": {
            "tags": []
          },
          "execution_count": 27
        }
      ]
    },
    {
      "cell_type": "code",
      "metadata": {
        "id": "Vv9L23xWo5CS"
      },
      "source": [
        ""
      ],
      "execution_count": null,
      "outputs": []
    }
  ]
}